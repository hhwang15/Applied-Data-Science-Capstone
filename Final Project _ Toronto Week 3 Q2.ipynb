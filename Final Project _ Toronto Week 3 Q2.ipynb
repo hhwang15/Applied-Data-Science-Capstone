{
    "nbformat_minor": 1, 
    "cells": [
        {
            "execution_count": 58, 
            "cell_type": "code", 
            "metadata": {}, 
            "outputs": [], 
            "source": "import pandas as pd\nimport numpy as np"
        }, 
        {
            "execution_count": 59, 
            "cell_type": "code", 
            "metadata": {}, 
            "outputs": [], 
            "source": "### Locate tabel in html and parse into dataframe\ntabel = pd.read_html('https://en.wikipedia.org/wiki/List_of_postal_codes_of_Canada:_M')\ndf=tabel[0]"
        }, 
        {
            "execution_count": 60, 
            "cell_type": "code", 
            "metadata": {}, 
            "outputs": [], 
            "source": "### Fix the header\nnew_header=df.iloc[0]\ndf = df[1:]\ndf.columns = new_header"
        }, 
        {
            "execution_count": 61, 
            "cell_type": "code", 
            "metadata": {}, 
            "outputs": [], 
            "source": "### Remove rows with unassigned Borough name\ndf = df[df.Borough != 'Not assigned']"
        }, 
        {
            "execution_count": 62, 
            "cell_type": "code", 
            "metadata": {}, 
            "outputs": [], 
            "source": "### Merge rows with same Postcode\ndf=df.groupby('Postcode',as_index=False).agg(', '.join)\nfor i, row in df.iterrows():\n    row['Borough']=row['Borough'].split(',')[0]"
        }, 
        {
            "execution_count": 63, 
            "cell_type": "code", 
            "metadata": {}, 
            "outputs": [
                {
                    "execution_count": 63, 
                    "metadata": {}, 
                    "data": {
                        "text/plain": "(103, 3)"
                    }, 
                    "output_type": "execute_result"
                }
            ], 
            "source": "df.shape"
        }, 
        {
            "execution_count": 64, 
            "cell_type": "code", 
            "metadata": {}, 
            "outputs": [], 
            "source": "#df"
        }, 
        {
            "execution_count": 65, 
            "cell_type": "code", 
            "metadata": {}, 
            "outputs": [
                {
                    "output_type": "stream", 
                    "name": "stdout", 
                    "text": "--2019-04-25 19:32:52--  https://cocl.us/Geospatial_data\nResolving cocl.us (cocl.us)... 169.48.113.201\nConnecting to cocl.us (cocl.us)|169.48.113.201|:443... connected.\nHTTP request sent, awaiting response... 301 Moved Permanently\nLocation: https://ibm.box.com/shared/static/9afzr83pps4pwf2smjjcf1y5mvgb18rr.csv [following]\n--2019-04-25 19:32:54--  https://ibm.box.com/shared/static/9afzr83pps4pwf2smjjcf1y5mvgb18rr.csv\nResolving ibm.box.com (ibm.box.com)... 107.152.24.197, 107.152.25.197\nConnecting to ibm.box.com (ibm.box.com)|107.152.24.197|:443... connected.\nHTTP request sent, awaiting response... 301 Moved Permanently\nLocation: /public/static/9afzr83pps4pwf2smjjcf1y5mvgb18rr.csv [following]\n--2019-04-25 19:32:54--  https://ibm.box.com/public/static/9afzr83pps4pwf2smjjcf1y5mvgb18rr.csv\nReusing existing connection to ibm.box.com:443.\nHTTP request sent, awaiting response... 301 Moved Permanently\nLocation: https://ibm.ent.box.com/public/static/9afzr83pps4pwf2smjjcf1y5mvgb18rr.csv [following]\n--2019-04-25 19:32:54--  https://ibm.ent.box.com/public/static/9afzr83pps4pwf2smjjcf1y5mvgb18rr.csv\nResolving ibm.ent.box.com (ibm.ent.box.com)... 107.152.27.211\nConnecting to ibm.ent.box.com (ibm.ent.box.com)|107.152.27.211|:443... connected.\nHTTP request sent, awaiting response... 302 Found\nLocation: https://public.boxcloud.com/d/1/b1!x2DCoxlAGs1TWO3DRRl4HynDG5T-nPKwYCg22Pu94UWyG9oquV2HQ-kDBbub6tU8w1oBOZ2TvBvRU83Q0i1f9kjmmGt2Qn-bktSoOavKkxLH7kaS7w5O-goXSW1S10RCv0FXAwG27p9Sb4oAZCCgzsCoH_zmaIDyeFgLhWBTGliDdaThnT3cQFhC2yvgcugR9wtMMJosb9PABZdSe110u4JgoyL_3nBZ51-fknzg02DLVO9rXTBZHFS1hCLrnMmo9xymwYu_tEbV5mn7Otwge09C7AE-epkg0mI6BDhkyFUxG_D5aXaZQ-1ufovgpAv_DzGuJh8oBXbbWFCC0t7Us5758f9jb7EOU7_uWqrbFBIJlZ9e0XU1soJwqBk5BY4YeSiwG1ZCCORnC7Lrn71D62MGP-olgHAwxHqvie2ywgWIBEOOOl8-uBSC4EwLvN-ospUHQQK_HryY54aegyC79lq9wsZze2SXDBdlysS0B4HZQJI6sfWjvh26EPn1vZ3bf8rjpMMeD497tJq86-PLpCsV7XXUbv-3mKlarnDJKG_-y9eDiK-_pur-88mgAlNC8XXJ0oYz06beC7jjWNjgma7641mPlxCzo68i4JVtFMU6__E7VVp1-HyZJqv6TnBV8-C_GSufP8dBeBeS7TK1BFCx7BkA-SOFWzaxPMsUwqHjpBh8UYJVVjBivSSRSlrqNg_1wSiCI5SAfMXx9iugJOd7ZXmILUWuj3CdB9El0Al-A0RmpFV4ykzw-bQIry3kh7vJS2rEkWyorqfZwTRqn91ObQkfoN5QuWmi525FKD-h-cNrXyK3L7H-cFiDVIG59JDM2cYTEPM0Oaln5_YopuLVID8KVDhZ_g0RC7ODIsyJX2o3EMnwCvy2y1hq08tONRuGrcooveAThcSZSlzVZ2c5zNwv1VaLoONTYSwghdEA8fIVDLZ7jMRVfmMea1oP1DWS6s4hILlBOwQQKGK4vdhO0cTy9_NHzAWMRzedMCfdCXagEB8hBzyoa_0JjKnOypqymIDlXQ_6Yl4QAjqFiHvUQmLWj0LmFvjvOu98r6HgC8AEAi434YWows7YhwazAf6Hz6yFkd6EEJS-9fX-ac2lFs-q80sl6kMdlJNLIpdhFbzlFvBwbs1aY1ZP1thWkRYzzsvZK9YmmhIGuFFasZIjr4FziFHdwetvJ36Gy2BATfUFKCV2PIiAfclyj5b-u5iJBVznqX3IWne_6jE0yLm8GXfk5l9gc05YU1IA8AOOzlOolfDcAxecDAev8rl2pXY-XA2sWd9c5y1JpwKGaxiO6mg_qJPu53lQA9Pll5NjXj2LXOk0xecnV604r2ufDLZKKJQmDmpcl8YDW_5poT1r7wFdVCpiwVxIt35potB5ex05ljMMfrs./download [following]\n--2019-04-25 19:32:55--  https://public.boxcloud.com/d/1/b1!x2DCoxlAGs1TWO3DRRl4HynDG5T-nPKwYCg22Pu94UWyG9oquV2HQ-kDBbub6tU8w1oBOZ2TvBvRU83Q0i1f9kjmmGt2Qn-bktSoOavKkxLH7kaS7w5O-goXSW1S10RCv0FXAwG27p9Sb4oAZCCgzsCoH_zmaIDyeFgLhWBTGliDdaThnT3cQFhC2yvgcugR9wtMMJosb9PABZdSe110u4JgoyL_3nBZ51-fknzg02DLVO9rXTBZHFS1hCLrnMmo9xymwYu_tEbV5mn7Otwge09C7AE-epkg0mI6BDhkyFUxG_D5aXaZQ-1ufovgpAv_DzGuJh8oBXbbWFCC0t7Us5758f9jb7EOU7_uWqrbFBIJlZ9e0XU1soJwqBk5BY4YeSiwG1ZCCORnC7Lrn71D62MGP-olgHAwxHqvie2ywgWIBEOOOl8-uBSC4EwLvN-ospUHQQK_HryY54aegyC79lq9wsZze2SXDBdlysS0B4HZQJI6sfWjvh26EPn1vZ3bf8rjpMMeD497tJq86-PLpCsV7XXUbv-3mKlarnDJKG_-y9eDiK-_pur-88mgAlNC8XXJ0oYz06beC7jjWNjgma7641mPlxCzo68i4JVtFMU6__E7VVp1-HyZJqv6TnBV8-C_GSufP8dBeBeS7TK1BFCx7BkA-SOFWzaxPMsUwqHjpBh8UYJVVjBivSSRSlrqNg_1wSiCI5SAfMXx9iugJOd7ZXmILUWuj3CdB9El0Al-A0RmpFV4ykzw-bQIry3kh7vJS2rEkWyorqfZwTRqn91ObQkfoN5QuWmi525FKD-h-cNrXyK3L7H-cFiDVIG59JDM2cYTEPM0Oaln5_YopuLVID8KVDhZ_g0RC7ODIsyJX2o3EMnwCvy2y1hq08tONRuGrcooveAThcSZSlzVZ2c5zNwv1VaLoONTYSwghdEA8fIVDLZ7jMRVfmMea1oP1DWS6s4hILlBOwQQKGK4vdhO0cTy9_NHzAWMRzedMCfdCXagEB8hBzyoa_0JjKnOypqymIDlXQ_6Yl4QAjqFiHvUQmLWj0LmFvjvOu98r6HgC8AEAi434YWows7YhwazAf6Hz6yFkd6EEJS-9fX-ac2lFs-q80sl6kMdlJNLIpdhFbzlFvBwbs1aY1ZP1thWkRYzzsvZK9YmmhIGuFFasZIjr4FziFHdwetvJ36Gy2BATfUFKCV2PIiAfclyj5b-u5iJBVznqX3IWne_6jE0yLm8GXfk5l9gc05YU1IA8AOOzlOolfDcAxecDAev8rl2pXY-XA2sWd9c5y1JpwKGaxiO6mg_qJPu53lQA9Pll5NjXj2LXOk0xecnV604r2ufDLZKKJQmDmpcl8YDW_5poT1r7wFdVCpiwVxIt35potB5ex05ljMMfrs./download\nResolving public.boxcloud.com (public.boxcloud.com)... 107.152.27.200\nConnecting to public.boxcloud.com (public.boxcloud.com)|107.152.27.200|:443... connected.\nHTTP request sent, awaiting response... 200 OK\nLength: 2891 (2.8K) [text/csv]\nSaving to: \u2018Geospatial_data.csv\u2019\n\n100%[======================================>] 2,891       --.-K/s   in 0s      \n\n2019-04-25 19:32:55 (445 MB/s) - \u2018Geospatial_data.csv\u2019 saved [2891/2891]\n\n"
                }
            ], 
            "source": "! wget https://cocl.us/Geospatial_data -O Geospatial_data.csv"
        }, 
        {
            "execution_count": 66, 
            "cell_type": "code", 
            "metadata": {}, 
            "outputs": [], 
            "source": "Geo_data = pd.read_csv('Geospatial_data.csv') "
        }, 
        {
            "execution_count": 67, 
            "cell_type": "code", 
            "metadata": {}, 
            "outputs": [
                {
                    "execution_count": 67, 
                    "metadata": {}, 
                    "data": {
                        "text/html": "<div>\n<style scoped>\n    .dataframe tbody tr th:only-of-type {\n        vertical-align: middle;\n    }\n\n    .dataframe tbody tr th {\n        vertical-align: top;\n    }\n\n    .dataframe thead th {\n        text-align: right;\n    }\n</style>\n<table border=\"1\" class=\"dataframe\">\n  <thead>\n    <tr style=\"text-align: right;\">\n      <th></th>\n      <th>Postal Code</th>\n      <th>Latitude</th>\n      <th>Longitude</th>\n    </tr>\n  </thead>\n  <tbody>\n    <tr>\n      <th>0</th>\n      <td>M1B</td>\n      <td>43.806686</td>\n      <td>-79.194353</td>\n    </tr>\n    <tr>\n      <th>1</th>\n      <td>M1C</td>\n      <td>43.784535</td>\n      <td>-79.160497</td>\n    </tr>\n    <tr>\n      <th>2</th>\n      <td>M1E</td>\n      <td>43.763573</td>\n      <td>-79.188711</td>\n    </tr>\n    <tr>\n      <th>3</th>\n      <td>M1G</td>\n      <td>43.770992</td>\n      <td>-79.216917</td>\n    </tr>\n    <tr>\n      <th>4</th>\n      <td>M1H</td>\n      <td>43.773136</td>\n      <td>-79.239476</td>\n    </tr>\n  </tbody>\n</table>\n</div>", 
                        "text/plain": "  Postal Code   Latitude  Longitude\n0         M1B  43.806686 -79.194353\n1         M1C  43.784535 -79.160497\n2         M1E  43.763573 -79.188711\n3         M1G  43.770992 -79.216917\n4         M1H  43.773136 -79.239476"
                    }, 
                    "output_type": "execute_result"
                }
            ], 
            "source": "Geo_data.head()"
        }, 
        {
            "execution_count": 68, 
            "cell_type": "code", 
            "metadata": {}, 
            "outputs": [
                {
                    "execution_count": 68, 
                    "metadata": {}, 
                    "data": {
                        "text/html": "<div>\n<style scoped>\n    .dataframe tbody tr th:only-of-type {\n        vertical-align: middle;\n    }\n\n    .dataframe tbody tr th {\n        vertical-align: top;\n    }\n\n    .dataframe thead th {\n        text-align: right;\n    }\n</style>\n<table border=\"1\" class=\"dataframe\">\n  <thead>\n    <tr style=\"text-align: right;\">\n      <th></th>\n      <th>Postcode</th>\n      <th>Borough</th>\n      <th>Neighbourhood</th>\n    </tr>\n  </thead>\n  <tbody>\n    <tr>\n      <th>0</th>\n      <td>M1B</td>\n      <td>Scarborough</td>\n      <td>Rouge, Malvern</td>\n    </tr>\n    <tr>\n      <th>1</th>\n      <td>M1C</td>\n      <td>Scarborough</td>\n      <td>Highland Creek, Rouge Hill, Port Union</td>\n    </tr>\n    <tr>\n      <th>2</th>\n      <td>M1E</td>\n      <td>Scarborough</td>\n      <td>Guildwood, Morningside, West Hill</td>\n    </tr>\n    <tr>\n      <th>3</th>\n      <td>M1G</td>\n      <td>Scarborough</td>\n      <td>Woburn</td>\n    </tr>\n    <tr>\n      <th>4</th>\n      <td>M1H</td>\n      <td>Scarborough</td>\n      <td>Cedarbrae</td>\n    </tr>\n  </tbody>\n</table>\n</div>", 
                        "text/plain": "0 Postcode      Borough                           Neighbourhood\n0      M1B  Scarborough                          Rouge, Malvern\n1      M1C  Scarborough  Highland Creek, Rouge Hill, Port Union\n2      M1E  Scarborough       Guildwood, Morningside, West Hill\n3      M1G  Scarborough                                  Woburn\n4      M1H  Scarborough                               Cedarbrae"
                    }, 
                    "output_type": "execute_result"
                }
            ], 
            "source": "df.head()"
        }, 
        {
            "execution_count": 88, 
            "cell_type": "code", 
            "metadata": {}, 
            "outputs": [], 
            "source": "df['Latitude'] = None\ndf['Longitude'] = None\nfor i, row in df.iterrows():\n    row['Latitude'] = Geo_data.loc[Geo_data['Postal Code'] == row['Postcode']]['Latitude'].values[0]\n    row['Longitude'] = Geo_data.loc[Geo_data['Postal Code'] == row['Postcode']]['Longitude'].values[0]\n"
        }, 
        {
            "execution_count": 89, 
            "cell_type": "code", 
            "metadata": {}, 
            "outputs": [], 
            "source": "df['Latitude'] = df['Latitude'].map('{:,.6f}'.format)"
        }, 
        {
            "execution_count": 90, 
            "cell_type": "code", 
            "metadata": {}, 
            "outputs": [
                {
                    "execution_count": 90, 
                    "metadata": {}, 
                    "data": {
                        "text/html": "<div>\n<style scoped>\n    .dataframe tbody tr th:only-of-type {\n        vertical-align: middle;\n    }\n\n    .dataframe tbody tr th {\n        vertical-align: top;\n    }\n\n    .dataframe thead th {\n        text-align: right;\n    }\n</style>\n<table border=\"1\" class=\"dataframe\">\n  <thead>\n    <tr style=\"text-align: right;\">\n      <th></th>\n      <th>Postcode</th>\n      <th>Borough</th>\n      <th>Neighbourhood</th>\n      <th>Latitude</th>\n      <th>Longitude</th>\n    </tr>\n  </thead>\n  <tbody>\n    <tr>\n      <th>0</th>\n      <td>M1B</td>\n      <td>Scarborough</td>\n      <td>Rouge, Malvern</td>\n      <td>43.806686</td>\n      <td>-79.1944</td>\n    </tr>\n    <tr>\n      <th>1</th>\n      <td>M1C</td>\n      <td>Scarborough</td>\n      <td>Highland Creek, Rouge Hill, Port Union</td>\n      <td>43.784535</td>\n      <td>-79.1605</td>\n    </tr>\n    <tr>\n      <th>2</th>\n      <td>M1E</td>\n      <td>Scarborough</td>\n      <td>Guildwood, Morningside, West Hill</td>\n      <td>43.763573</td>\n      <td>-79.1887</td>\n    </tr>\n    <tr>\n      <th>3</th>\n      <td>M1G</td>\n      <td>Scarborough</td>\n      <td>Woburn</td>\n      <td>43.770992</td>\n      <td>-79.2169</td>\n    </tr>\n    <tr>\n      <th>4</th>\n      <td>M1H</td>\n      <td>Scarborough</td>\n      <td>Cedarbrae</td>\n      <td>43.773136</td>\n      <td>-79.2395</td>\n    </tr>\n  </tbody>\n</table>\n</div>", 
                        "text/plain": "0 Postcode      Borough                           Neighbourhood   Latitude  \\\n0      M1B  Scarborough                          Rouge, Malvern  43.806686   \n1      M1C  Scarborough  Highland Creek, Rouge Hill, Port Union  43.784535   \n2      M1E  Scarborough       Guildwood, Morningside, West Hill  43.763573   \n3      M1G  Scarborough                                  Woburn  43.770992   \n4      M1H  Scarborough                               Cedarbrae  43.773136   \n\n0 Longitude  \n0  -79.1944  \n1  -79.1605  \n2  -79.1887  \n3  -79.2169  \n4  -79.2395  "
                    }, 
                    "output_type": "execute_result"
                }
            ], 
            "source": "df.head()"
        }, 
        {
            "execution_count": null, 
            "cell_type": "code", 
            "metadata": {}, 
            "outputs": [], 
            "source": ""
        }
    ], 
    "metadata": {
        "kernelspec": {
            "display_name": "Python 3.5", 
            "name": "python3", 
            "language": "python"
        }, 
        "language_info": {
            "mimetype": "text/x-python", 
            "nbconvert_exporter": "python", 
            "version": "3.5.5", 
            "name": "python", 
            "file_extension": ".py", 
            "pygments_lexer": "ipython3", 
            "codemirror_mode": {
                "version": 3, 
                "name": "ipython"
            }
        }
    }, 
    "nbformat": 4
}